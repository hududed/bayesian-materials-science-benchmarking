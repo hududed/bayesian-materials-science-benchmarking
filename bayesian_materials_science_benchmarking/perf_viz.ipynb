{
 "cells": [
  {
   "cell_type": "code",
   "execution_count": 1,
   "metadata": {},
   "outputs": [],
   "source": [
    "import numpy as np\n",
    "from data_utils import load_data, categorical_to_int\n",
    "from config import n_ensemble, n_init, n_est, seed_list, categories\n",
    "import math"
   ]
  },
  {
   "cell_type": "markdown",
   "metadata": {},
   "source": [
    "# Data load and process"
   ]
  },
  {
   "cell_type": "code",
   "execution_count": 6,
   "metadata": {},
   "outputs": [
    {
     "name": "stdout",
     "output_type": "stream",
     "text": [
      "##### START: GOQ #####\n",
      "\n"
     ]
    },
    {
     "data": {
      "text/html": [
       "<div>\n",
       "<style scoped>\n",
       "    .dataframe tbody tr th:only-of-type {\n",
       "        vertical-align: middle;\n",
       "    }\n",
       "\n",
       "    .dataframe tbody tr th {\n",
       "        vertical-align: top;\n",
       "    }\n",
       "\n",
       "    .dataframe thead th {\n",
       "        text-align: right;\n",
       "    }\n",
       "</style>\n",
       "<table border=\"1\" class=\"dataframe\">\n",
       "  <thead>\n",
       "    <tr style=\"text-align: right;\">\n",
       "      <th></th>\n",
       "      <th>power</th>\n",
       "      <th>time</th>\n",
       "      <th>gas</th>\n",
       "      <th>pressure</th>\n",
       "      <th>target</th>\n",
       "    </tr>\n",
       "  </thead>\n",
       "  <tbody>\n",
       "    <tr>\n",
       "      <th>0</th>\n",
       "      <td>10</td>\n",
       "      <td>9055</td>\n",
       "      <td>1</td>\n",
       "      <td>580</td>\n",
       "      <td>-1.046820</td>\n",
       "    </tr>\n",
       "    <tr>\n",
       "      <th>1</th>\n",
       "      <td>19</td>\n",
       "      <td>2960</td>\n",
       "      <td>2</td>\n",
       "      <td>70</td>\n",
       "      <td>-1.026473</td>\n",
       "    </tr>\n",
       "    <tr>\n",
       "      <th>2</th>\n",
       "      <td>44</td>\n",
       "      <td>3012</td>\n",
       "      <td>2</td>\n",
       "      <td>70</td>\n",
       "      <td>-1.032122</td>\n",
       "    </tr>\n",
       "    <tr>\n",
       "      <th>3</th>\n",
       "      <td>83</td>\n",
       "      <td>8031</td>\n",
       "      <td>3</td>\n",
       "      <td>610</td>\n",
       "      <td>0.000000</td>\n",
       "    </tr>\n",
       "    <tr>\n",
       "      <th>4</th>\n",
       "      <td>121</td>\n",
       "      <td>3049</td>\n",
       "      <td>2</td>\n",
       "      <td>60</td>\n",
       "      <td>-1.046390</td>\n",
       "    </tr>\n",
       "  </tbody>\n",
       "</table>\n",
       "</div>"
      ],
      "text/plain": [
       "   power  time  gas  pressure    target\n",
       "0     10  9055    1       580 -1.046820\n",
       "1     19  2960    2        70 -1.026473\n",
       "2     44  3012    2        70 -1.032122\n",
       "3     83  8031    3       610  0.000000\n",
       "4    121  3049    2        60 -1.046390"
      ]
     },
     "execution_count": 6,
     "metadata": {},
     "output_type": "execute_result"
    }
   ],
   "source": [
    "dataset_name = 'GOQ'\n",
    "unique_ds, feature_name, objective_name = load_data(\n",
    "    dataset_name, invert_y=True)\n",
    "\n",
    "print(f\"##### START: {dataset_name} #####\\n\")\n",
    "unique_ds = categorical_to_int(\n",
    "    unique_ds, col_name='gas', categories=categories)\n",
    "X_feature = unique_ds[feature_name].values\n",
    "y = np.array(unique_ds[objective_name].values)\n",
    "n_dataset = len(unique_ds)\n",
    "# print(f\"Number of data in set: {n_dataset}\")\n",
    "\n",
    "# number of top candidates, currently using top 5% of total dataset size\n",
    "n_top = int(math.ceil(len(y)*.05))\n",
    "top_indices = list(unique_ds.sort_values(objective_name).head(n_top).index)\n",
    "unique_ds.head()"
   ]
  },
  {
   "cell_type": "code",
   "execution_count": null,
   "metadata": {},
   "outputs": [],
   "source": []
  }
 ],
 "metadata": {
  "kernelspec": {
   "display_name": "Python 3",
   "language": "python",
   "name": "python3"
  },
  "language_info": {
   "codemirror_mode": {
    "name": "ipython",
    "version": 3
   },
   "file_extension": ".py",
   "mimetype": "text/x-python",
   "name": "python",
   "nbconvert_exporter": "python",
   "pygments_lexer": "ipython3",
   "version": "3.10.7"
  },
  "orig_nbformat": 4,
  "vscode": {
   "interpreter": {
    "hash": "1ab9bbbd595a559753010e8594261c78035d8fbb64b7015ab3d447a0836f3c20"
   }
  }
 },
 "nbformat": 4,
 "nbformat_minor": 2
}
